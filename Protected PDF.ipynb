{
 "cells": [
  {
   "cell_type": "code",
   "execution_count": 80,
   "metadata": {},
   "outputs": [],
   "source": [
    "from tkinter import *\n",
    "from tkinter import filedialog\n",
    "import pikepdf\n",
    "from pikepdf import Pdf\n",
    "w = Tk()\n",
    "w.title(\"Make Password protected PDF\")\n",
    "w.geometry('500x180')\n",
    "lbl1=Label(w,text='Choose Password')\n",
    "lbl1.pack()\n",
    "txt1 = Entry(w,width=10)\n",
    "txt1.pack()\n",
    "lbl2=Label(w,text='Output_filename')\n",
    "lbl2.pack()\n",
    "txt2 = Entry(w,width=10)\n",
    "txt2.pack()\n",
    "\n",
    "\n",
    "def clicked():\n",
    "    pdf = Pdf.open(pathlabel['text'])  \n",
    "    a=pathlabel['text']\n",
    "    pdf.save( a[0:32] + txt2.get() + '.pdf', encryption=pikepdf.Encryption(owner=txt1.get(), user=txt1.get(), R=4)) \n",
    
    "    pdf.close()\n",
    "   \n",
    "def browsefunc():\n",
    "    filename = filedialog.askopenfilename()\n",
    "    pathlabel.config(text=filename)\n",
    "browsebutton = Button(w, text=\"Browse\", command=browsefunc)\n",
    "browsebutton.pack()\n",
    "\n",
    "pathlabel = Label(w)\n",
    "pathlabel.pack()\n",
    "       \n",
    "btn1 = Button(w, text=\"Clicked to set Password\", command=clicked)\n",
    "btn1.pack()\n",
    "w.mainloop()"
   ]
  }
 ],
 "metadata": {
  "kernelspec": {
   "display_name": "Python 3",
   "language": "python",
   "name": "python3"
  },
  "language_info": {
   "codemirror_mode": {
    "name": "ipython",
    "version": 3
   },
   "file_extension": ".py",
   "mimetype": "text/x-python",
   "name": "python",
   "nbconvert_exporter": "python",
   "pygments_lexer": "ipython3",
   "version": "3.7.6"
  }
 },
 "nbformat": 4,
 "nbformat_minor": 4
}
